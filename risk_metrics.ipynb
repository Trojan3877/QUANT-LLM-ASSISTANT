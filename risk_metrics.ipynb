{
 "cells": [
  {
   "cell_type": "markdown",
   "id": "5604c698",
   "metadata": {},
   "source": [
    "# Risk Metrics Analysis\n",
    "\n",
    "This notebook demonstrates how to calculate common risk metrics such as Sharpe ratio, Value at Risk (VaR), and max drawdown using simulated price data and the BacktestEngine from the `src` module."
   ]
  },
  {
   "cell_type": "code",
   "execution_count": null,
   "id": "602aaef6",
   "metadata": {},
   "outputs": [],
   "source": [
    "# Imports\n",
    "import pandas as pd\n",
    "import numpy as np\n",
    "from datetime import datetime, timedelta\n",
    "from src.backtest import BacktestEngine\n",
    "\n",
    "# Helper to generate price data\n",
    "def make_price_df(days=252, start_price=100.0):\n",
    "    dates = [datetime(2025, 1, 1) + timedelta(days=i) for i in range(days)]\n",
    "    prices = start_price * (1 + np.cumsum(np.random.normal(0, 0.001, size=days)))\n",
    "    return pd.DataFrame({'close': prices}, index=dates)\n",
    "\n",
    "# Simulate price series and backtest\n",
    "price_df = make_price_df()\n",
    "def simple_momentum(df):\n",
    "    return pd.Series(np.where(df['close'].pct_change().fillna(0) > 0, 1, 0), index=df.index)\n",
    "\n",
    "engine = BacktestEngine(price_data=price_df, strategy_fn=simple_momentum)\n",
    "equity = engine.run()\n",
    "returns = equity['total'].pct_change().dropna()\n",
    "\n",
    "# Display head of equity curve\n",
    "equity.head()"
   ]
  },
  {
   "cell_type": "markdown",
   "id": "901dcf7c",
   "metadata": {},
   "source": [
    "## Sharpe Ratio\n",
    "Sharpe Ratio is calculated as:\n",
    "\n",
    "$$\\text{Sharpe} = \\frac{\\sqrt{252} \\times \\bar{R}}{\\sigma_R}$$\n"
   ]
  },
  {
   "cell_type": "code",
   "execution_count": null,
   "id": "f3ca9467",
   "metadata": {},
   "outputs": [],
   "source": [
    "# Calculate Sharpe ratio\n",
    "sharpe_ratio = np.sqrt(252) * returns.mean() / returns.std()\n",
    "print(f\"Sharpe Ratio: {sharpe_ratio:.4f}\")"
   ]
  },
  {
   "cell_type": "markdown",
   "id": "83ad7691",
   "metadata": {},
   "source": [
    "## Value at Risk (VaR)\n",
    "The 95% VaR is the 5th percentile of the return distribution."
   ]
  },
  {
   "cell_type": "code",
   "execution_count": null,
   "id": "6d6c97e0",
   "metadata": {},
   "outputs": [],
   "source": [
    "# Calculate VaR at 95%\n",
    "var_95 = np.percentile(returns, 5)\n",
    "print(f\"95% VaR: {var_95:.4f}\")"
   ]
  },
  {
   "cell_type": "markdown",
   "id": "532ab0e8",
   "metadata": {},
   "source": [
    "## Maximum Drawdown\n",
    "Drawdown is the peak-to-trough decline. We compute it on the equity curve."
   ]
  },
  {
   "cell_type": "code",
   "execution_count": null,
   "id": "99d475ad",
   "metadata": {},
   "outputs": [],
   "source": [
    "# Compute drawdown\n",
    "cum_max = equity['total'].cummax()\n",
    "drawdown = (equity['total'] - cum_max) / cum_max\n",
    "max_drawdown = drawdown.min()\n",
    "print(f\"Maximum Drawdown: {max_drawdown:.4f}\")"
   ]
  },
  {
   "cell_type": "markdown",
   "id": "68d33698",
   "metadata": {},
   "source": [
    "### Interpretation\n",
    "- A **Sharpe Ratio** above 1.0 is generally considered acceptable.\n",
    "- A **VaR** of -0.02 means a 2% loss at the 95% confidence level.\n",
    "- **Max Drawdown** indicates the worst observed loss from a peak."
   ]
  }
 ],
 "metadata": {},
 "nbformat": 4,
 "nbformat_minor": 5
}
