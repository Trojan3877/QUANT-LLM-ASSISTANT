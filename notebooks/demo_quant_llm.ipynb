# Cell 1: Import & Setup
from llm_pipeline import preprocess_query, generate_response

# Cell 2: Define test query
query = "What is the risk-adjusted return of NVDA in the last year?"

# Cell 3: Preprocess and call LLM
processed = preprocess_query(query)
response = generate_response(processed)

# Cell 4: Display Results
print("🧠 Processed Query:", processed)
print("📊 LLM Response:", response)
